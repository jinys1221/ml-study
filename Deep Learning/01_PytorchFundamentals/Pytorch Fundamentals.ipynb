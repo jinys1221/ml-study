{
 "cells": [
  {
   "cell_type": "markdown",
   "id": "0f07294a-1617-42db-b9cc-de2860466794",
   "metadata": {},
   "source": [
    "## 1. 라이브러리 불러오기\n",
    "Pytorch 실습을 위한 라이브러리 numpy, torch를 불러옵니다."
   ]
  },
  {
   "cell_type": "code",
   "execution_count": 2,
   "id": "078bf0a4-7a94-49b4-bdfe-a1e0efd8c085",
   "metadata": {},
   "outputs": [],
   "source": [
    "import numpy as np\n",
    "import torch"
   ]
  },
  {
   "cell_type": "markdown",
   "id": "8807aa76-6c46-4b83-adec-b268e21b5484",
   "metadata": {},
   "source": [
    "## 2. Tensor 만들기\n",
    "\n",
    "- torch.tensor()"
   ]
  },
  {
   "cell_type": "code",
   "execution_count": 3,
   "id": "4aa15e9d-a547-4399-8c61-4022d1e3e72c",
   "metadata": {},
   "outputs": [
    {
     "data": {
      "text/plain": [
       "tensor(5)"
      ]
     },
     "execution_count": 3,
     "metadata": {},
     "output_type": "execute_result"
    }
   ],
   "source": [
    "torch.tensor(5)   # 0차원 텐서 → 스칼라"
   ]
  },
  {
   "cell_type": "code",
   "execution_count": 4,
   "id": "9cc416f0-3b4f-42dc-ba02-deec27629124",
   "metadata": {},
   "outputs": [
    {
     "data": {
      "text/plain": [
       "tensor([1, 2, 3, 4, 5])"
      ]
     },
     "execution_count": 4,
     "metadata": {},
     "output_type": "execute_result"
    }
   ],
   "source": [
    "torch.tensor([1, 2, 3, 4, 5])    # 1차원 텐서 → 벡터"
   ]
  },
  {
   "cell_type": "code",
   "execution_count": 5,
   "id": "7d2c77cd-c1d3-484e-b203-1d16e3f918bb",
   "metadata": {},
   "outputs": [
    {
     "data": {
      "text/plain": [
       "tensor([[1, 2, 3],\n",
       "        [4, 5, 6]])"
      ]
     },
     "execution_count": 5,
     "metadata": {},
     "output_type": "execute_result"
    }
   ],
   "source": [
    "torch.tensor([[1], [2], [3], [4], [5]])   # 2차원 텐서 → 매트릭스\n",
    "torch.tensor([[1, 2, 3], [4, 5, 6]])"
   ]
  },
  {
   "cell_type": "markdown",
   "id": "4495016e-26d1-4e25-a844-5063a40377ef",
   "metadata": {},
   "source": [
    "- list, set, numpy array 등에도 적용이 가능하다."
   ]
  },
  {
   "cell_type": "code",
   "execution_count": 6,
   "id": "0e83ac60-64f2-4c22-83f4-64bca264e57c",
   "metadata": {},
   "outputs": [
    {
     "data": {
      "text/plain": [
       "tensor([1, 2, 3, 4, 5])"
      ]
     },
     "execution_count": 6,
     "metadata": {},
     "output_type": "execute_result"
    }
   ],
   "source": [
    "temp_list = [1, 2, 3, 4, 5]\n",
    "torch.tensor(temp_list)"
   ]
  },
  {
   "cell_type": "code",
   "execution_count": 7,
   "id": "7fd9e9e1-bda4-4bc5-a99d-e53f82929f43",
   "metadata": {},
   "outputs": [
    {
     "data": {
      "text/plain": [
       "tensor([1, 2, 3, 4, 5])"
      ]
     },
     "execution_count": 7,
     "metadata": {},
     "output_type": "execute_result"
    }
   ],
   "source": [
    "temp_set = (1, 2, 3, 4, 5)\n",
    "torch.tensor(temp_set)"
   ]
  },
  {
   "cell_type": "code",
   "execution_count": 8,
   "id": "16f8d201-8ce6-4aaa-ba34-f90bcdf727da",
   "metadata": {},
   "outputs": [
    {
     "data": {
      "text/plain": [
       "tensor([1, 2, 3, 4, 5])"
      ]
     },
     "execution_count": 8,
     "metadata": {},
     "output_type": "execute_result"
    }
   ],
   "source": [
    "temp_np_array = np.array(temp_list)\n",
    "torch.tensor(temp_np_array)"
   ]
  },
  {
   "cell_type": "code",
   "execution_count": 9,
   "id": "4b519a6e-efca-4003-a646-349784b456db",
   "metadata": {},
   "outputs": [
    {
     "data": {
      "text/plain": [
       "tensor([1, 2, 3, 4, 5])"
      ]
     },
     "execution_count": 9,
     "metadata": {},
     "output_type": "execute_result"
    }
   ],
   "source": [
    "torch.from_numpy(temp_np_array)"
   ]
  },
  {
   "cell_type": "markdown",
   "id": "a4dcbdb5-82c7-49bb-be5b-ca895facf649",
   "metadata": {},
   "source": [
    "- torch.ones()  \n",
    "`torch.ones()`를 통해 만들게 되면 각 element가 1인 tensor를 만들어줌  \n",
    "argment로는 tensor의 dimension을 입력"
   ]
  },
  {
   "cell_type": "code",
   "execution_count": 10,
   "id": "2f134e0c-0211-4ad5-aa64-a523ff386bcd",
   "metadata": {},
   "outputs": [
    {
     "data": {
      "text/plain": [
       "tensor([1., 1., 1.])"
      ]
     },
     "execution_count": 10,
     "metadata": {},
     "output_type": "execute_result"
    }
   ],
   "source": [
    "torch.ones(3)   # 1차원 텐서"
   ]
  },
  {
   "cell_type": "code",
   "execution_count": 11,
   "id": "05ddf528-dcd8-4bce-83c4-67d964a3075e",
   "metadata": {},
   "outputs": [
    {
     "data": {
      "text/plain": [
       "tensor([[1., 1., 1.],\n",
       "        [1., 1., 1.],\n",
       "        [1., 1., 1.]])"
      ]
     },
     "execution_count": 11,
     "metadata": {},
     "output_type": "execute_result"
    }
   ],
   "source": [
    "torch.ones([3, 3])   # 2차원 텐서"
   ]
  },
  {
   "cell_type": "code",
   "execution_count": 12,
   "id": "a60c80d7-9a49-4d51-9aca-d076ea9d504f",
   "metadata": {},
   "outputs": [
    {
     "data": {
      "text/plain": [
       "tensor([[[1., 1., 1.],\n",
       "         [1., 1., 1.],\n",
       "         [1., 1., 1.]],\n",
       "\n",
       "        [[1., 1., 1.],\n",
       "         [1., 1., 1.],\n",
       "         [1., 1., 1.]],\n",
       "\n",
       "        [[1., 1., 1.],\n",
       "         [1., 1., 1.],\n",
       "         [1., 1., 1.]]])"
      ]
     },
     "execution_count": 12,
     "metadata": {},
     "output_type": "execute_result"
    }
   ],
   "source": [
    "torch.ones([3, 3, 3]) # 3차원 텐서"
   ]
  },
  {
   "cell_type": "markdown",
   "id": "3f6f1e0f-238c-47fb-a1fc-fcc60089dd39",
   "metadata": {},
   "source": [
    "- torch.zeros()  \n",
    "`torch.zeros()`를 통해 만들게 되면 각 element가 0인 tensor를 만들어줌    \n",
    "argment로는 tensor의 dimension을 입력"
   ]
  },
  {
   "cell_type": "code",
   "execution_count": 13,
   "id": "09d52e78-829b-47e0-ab8c-2c6feb2267de",
   "metadata": {},
   "outputs": [
    {
     "data": {
      "text/plain": [
       "tensor([0., 0., 0.])"
      ]
     },
     "execution_count": 13,
     "metadata": {},
     "output_type": "execute_result"
    }
   ],
   "source": [
    "torch.zeros(3)"
   ]
  },
  {
   "cell_type": "code",
   "execution_count": 15,
   "id": "469b0c75-e7b0-4f8a-9f30-b76a4b1db3be",
   "metadata": {},
   "outputs": [
    {
     "data": {
      "text/plain": [
       "tensor([[0., 0., 0., 0.],\n",
       "        [0., 0., 0., 0.],\n",
       "        [0., 0., 0., 0.],\n",
       "        [0., 0., 0., 0.]])"
      ]
     },
     "execution_count": 15,
     "metadata": {},
     "output_type": "execute_result"
    }
   ],
   "source": [
    "torch.zeros([4, 4])"
   ]
  },
  {
   "cell_type": "code",
   "execution_count": 16,
   "id": "9ce5db91-748d-4859-8801-37952e84b6f9",
   "metadata": {},
   "outputs": [
    {
     "data": {
      "text/plain": [
       "tensor([[[0., 0., 0., 0.],\n",
       "         [0., 0., 0., 0.],\n",
       "         [0., 0., 0., 0.],\n",
       "         [0., 0., 0., 0.]],\n",
       "\n",
       "        [[0., 0., 0., 0.],\n",
       "         [0., 0., 0., 0.],\n",
       "         [0., 0., 0., 0.],\n",
       "         [0., 0., 0., 0.]],\n",
       "\n",
       "        [[0., 0., 0., 0.],\n",
       "         [0., 0., 0., 0.],\n",
       "         [0., 0., 0., 0.],\n",
       "         [0., 0., 0., 0.]]])"
      ]
     },
     "execution_count": 16,
     "metadata": {},
     "output_type": "execute_result"
    }
   ],
   "source": [
    "torch.zeros([3, 4, 4])"
   ]
  },
  {
   "cell_type": "code",
   "execution_count": 17,
   "id": "81dae1b0-294e-4454-a2bc-97f8ebbc0f14",
   "metadata": {},
   "outputs": [
    {
     "data": {
      "text/plain": [
       "tensor([[[[0., 0., 0., 0.],\n",
       "          [0., 0., 0., 0.],\n",
       "          [0., 0., 0., 0.],\n",
       "          [0., 0., 0., 0.]],\n",
       "\n",
       "         [[0., 0., 0., 0.],\n",
       "          [0., 0., 0., 0.],\n",
       "          [0., 0., 0., 0.],\n",
       "          [0., 0., 0., 0.]],\n",
       "\n",
       "         [[0., 0., 0., 0.],\n",
       "          [0., 0., 0., 0.],\n",
       "          [0., 0., 0., 0.],\n",
       "          [0., 0., 0., 0.]]],\n",
       "\n",
       "\n",
       "        [[[0., 0., 0., 0.],\n",
       "          [0., 0., 0., 0.],\n",
       "          [0., 0., 0., 0.],\n",
       "          [0., 0., 0., 0.]],\n",
       "\n",
       "         [[0., 0., 0., 0.],\n",
       "          [0., 0., 0., 0.],\n",
       "          [0., 0., 0., 0.],\n",
       "          [0., 0., 0., 0.]],\n",
       "\n",
       "         [[0., 0., 0., 0.],\n",
       "          [0., 0., 0., 0.],\n",
       "          [0., 0., 0., 0.],\n",
       "          [0., 0., 0., 0.]]],\n",
       "\n",
       "\n",
       "        [[[0., 0., 0., 0.],\n",
       "          [0., 0., 0., 0.],\n",
       "          [0., 0., 0., 0.],\n",
       "          [0., 0., 0., 0.]],\n",
       "\n",
       "         [[0., 0., 0., 0.],\n",
       "          [0., 0., 0., 0.],\n",
       "          [0., 0., 0., 0.],\n",
       "          [0., 0., 0., 0.]],\n",
       "\n",
       "         [[0., 0., 0., 0.],\n",
       "          [0., 0., 0., 0.],\n",
       "          [0., 0., 0., 0.],\n",
       "          [0., 0., 0., 0.]]],\n",
       "\n",
       "\n",
       "        [[[0., 0., 0., 0.],\n",
       "          [0., 0., 0., 0.],\n",
       "          [0., 0., 0., 0.],\n",
       "          [0., 0., 0., 0.]],\n",
       "\n",
       "         [[0., 0., 0., 0.],\n",
       "          [0., 0., 0., 0.],\n",
       "          [0., 0., 0., 0.],\n",
       "          [0., 0., 0., 0.]],\n",
       "\n",
       "         [[0., 0., 0., 0.],\n",
       "          [0., 0., 0., 0.],\n",
       "          [0., 0., 0., 0.],\n",
       "          [0., 0., 0., 0.]]],\n",
       "\n",
       "\n",
       "        [[[0., 0., 0., 0.],\n",
       "          [0., 0., 0., 0.],\n",
       "          [0., 0., 0., 0.],\n",
       "          [0., 0., 0., 0.]],\n",
       "\n",
       "         [[0., 0., 0., 0.],\n",
       "          [0., 0., 0., 0.],\n",
       "          [0., 0., 0., 0.],\n",
       "          [0., 0., 0., 0.]],\n",
       "\n",
       "         [[0., 0., 0., 0.],\n",
       "          [0., 0., 0., 0.],\n",
       "          [0., 0., 0., 0.],\n",
       "          [0., 0., 0., 0.]]]])"
      ]
     },
     "execution_count": 17,
     "metadata": {},
     "output_type": "execute_result"
    }
   ],
   "source": [
    "torch.zeros([5, 3, 4, 4])"
   ]
  },
  {
   "cell_type": "markdown",
   "id": "be4119ef-9183-44d3-b014-08660c5a02a4",
   "metadata": {},
   "source": [
    "- `torch.arange()`를 통해 주어진 범위 내의 정수를 순서대로 생성"
   ]
  },
  {
   "cell_type": "code",
   "execution_count": 21,
   "id": "3e1662bd-9e81-45c9-b94d-d69ff08acaa8",
   "metadata": {},
   "outputs": [
    {
     "data": {
      "text/plain": [
       "tensor([1, 2, 3, 4, 5, 6, 7, 8, 9])"
      ]
     },
     "execution_count": 21,
     "metadata": {},
     "output_type": "execute_result"
    }
   ],
   "source": [
    "torch.arange(1, 10)   # 10 이전까지"
   ]
  },
  {
   "cell_type": "code",
   "execution_count": 22,
   "id": "18c002b3-5dfa-4867-8210-4cdbca84da36",
   "metadata": {},
   "outputs": [
    {
     "data": {
      "text/plain": [
       "tensor([22, 21, 20, 19, 18, 17, 16, 15, 14, 13, 12, 11])"
      ]
     },
     "execution_count": 22,
     "metadata": {},
     "output_type": "execute_result"
    }
   ],
   "source": [
    "torch.arange(22, 10, -1)   # 10 이전까지 -1씩"
   ]
  },
  {
   "cell_type": "code",
   "execution_count": 23,
   "id": "a644a73b-1011-48ca-bcc7-e83cc276e792",
   "metadata": {},
   "outputs": [
    {
     "data": {
      "text/plain": [
       "tensor([10, 12, 14, 16, 18, 20])"
      ]
     },
     "execution_count": 23,
     "metadata": {},
     "output_type": "execute_result"
    }
   ],
   "source": [
    "torch.arange(10, 22, 2)   # 22 전까지 2씩"
   ]
  },
  {
   "cell_type": "markdown",
   "id": "c4fc8bcd-0038-44c4-bfe0-d9212d91f625",
   "metadata": {},
   "source": [
    "-`torch.rand()`[0, 1]의 uniform dist에서 난수를 생성해서 tensor로 만들어줌"
   ]
  },
  {
   "cell_type": "code",
   "execution_count": 24,
   "id": "2a805b14-157a-4a68-af1d-9bef98ca1878",
   "metadata": {},
   "outputs": [
    {
     "data": {
      "text/plain": [
       "tensor([0.2739, 0.0763, 0.8985, 0.1854, 0.2943])"
      ]
     },
     "execution_count": 24,
     "metadata": {},
     "output_type": "execute_result"
    }
   ],
   "source": [
    "torch.rand(5)"
   ]
  },
  {
   "cell_type": "code",
   "execution_count": 26,
   "id": "3971b677-a397-4aeb-a524-c720f07e99ed",
   "metadata": {},
   "outputs": [
    {
     "data": {
      "text/plain": [
       "tensor([[[0.4589, 0.2308, 0.6732, 0.1827, 0.7280],\n",
       "         [0.7922, 0.0934, 0.1028, 0.0675, 0.8732],\n",
       "         [0.3915, 0.3770, 0.2658, 0.4328, 0.9308],\n",
       "         [0.2197, 0.4989, 0.0093, 0.9966, 0.3337]],\n",
       "\n",
       "        [[0.3212, 0.2220, 0.4356, 0.6605, 0.9999],\n",
       "         [0.5325, 0.3294, 0.9020, 0.5974, 0.1344],\n",
       "         [0.7007, 0.0704, 0.0669, 0.2188, 0.5669],\n",
       "         [0.6405, 0.2960, 0.9675, 0.3603, 0.8065]],\n",
       "\n",
       "        [[0.9146, 0.9036, 0.3158, 0.8389, 0.0794],\n",
       "         [0.1586, 0.9086, 0.9794, 0.4223, 0.9681],\n",
       "         [0.2868, 0.6040, 0.4000, 0.9547, 0.9401],\n",
       "         [0.7640, 0.7827, 0.6801, 0.7421, 0.8168]]])"
      ]
     },
     "execution_count": 26,
     "metadata": {},
     "output_type": "execute_result"
    }
   ],
   "source": [
    "torch.rand([3, 4, 5])"
   ]
  },
  {
   "cell_type": "markdown",
   "id": "3f5d98f8-38d9-4b9f-a3de-35b5d7cfe59e",
   "metadata": {},
   "source": [
    "- `torch.xxx_like()`를 통해 기존의 텐서와 같은 모양의 원소가 지정해준 텐서를 만들어줌"
   ]
  },
  {
   "cell_type": "code",
   "execution_count": 34,
   "id": "35aea592-589b-4983-bd66-084533321c6b",
   "metadata": {},
   "outputs": [],
   "source": [
    "a = torch.zeros([3, 4, 5])"
   ]
  },
  {
   "cell_type": "code",
   "execution_count": 35,
   "id": "29b90676-c05e-41ab-9daa-5fb4ccaf6daf",
   "metadata": {},
   "outputs": [
    {
     "data": {
      "text/plain": [
       "tensor([[[1., 1., 1., 1., 1.],\n",
       "         [1., 1., 1., 1., 1.],\n",
       "         [1., 1., 1., 1., 1.],\n",
       "         [1., 1., 1., 1., 1.]],\n",
       "\n",
       "        [[1., 1., 1., 1., 1.],\n",
       "         [1., 1., 1., 1., 1.],\n",
       "         [1., 1., 1., 1., 1.],\n",
       "         [1., 1., 1., 1., 1.]],\n",
       "\n",
       "        [[1., 1., 1., 1., 1.],\n",
       "         [1., 1., 1., 1., 1.],\n",
       "         [1., 1., 1., 1., 1.],\n",
       "         [1., 1., 1., 1., 1.]]])"
      ]
     },
     "execution_count": 35,
     "metadata": {},
     "output_type": "execute_result"
    }
   ],
   "source": [
    "torch.ones_like(a)"
   ]
  },
  {
   "cell_type": "code",
   "execution_count": 36,
   "id": "7b6cb757-1c20-4860-be69-fca5d92893e3",
   "metadata": {},
   "outputs": [
    {
     "data": {
      "text/plain": [
       "tensor([[[0., 0., 0., 0., 0.],\n",
       "         [0., 0., 0., 0., 0.],\n",
       "         [0., 0., 0., 0., 0.],\n",
       "         [0., 0., 0., 0., 0.]],\n",
       "\n",
       "        [[0., 0., 0., 0., 0.],\n",
       "         [0., 0., 0., 0., 0.],\n",
       "         [0., 0., 0., 0., 0.],\n",
       "         [0., 0., 0., 0., 0.]],\n",
       "\n",
       "        [[0., 0., 0., 0., 0.],\n",
       "         [0., 0., 0., 0., 0.],\n",
       "         [0., 0., 0., 0., 0.],\n",
       "         [0., 0., 0., 0., 0.]]])"
      ]
     },
     "execution_count": 36,
     "metadata": {},
     "output_type": "execute_result"
    }
   ],
   "source": [
    "torch.zeros_like(a)"
   ]
  },
  {
   "cell_type": "code",
   "execution_count": 38,
   "id": "e49f2794-8d23-465d-bdcc-1a501e4a6065",
   "metadata": {},
   "outputs": [
    {
     "data": {
      "text/plain": [
       "tensor([[[0.1415, 0.3250, 0.2388, 0.6486, 0.0330],\n",
       "         [0.9061, 0.0541, 0.9237, 0.0841, 0.9299],\n",
       "         [0.4557, 0.4603, 0.9724, 0.5715, 0.1292],\n",
       "         [0.6233, 0.4566, 0.2036, 0.4895, 0.2755]],\n",
       "\n",
       "        [[0.6072, 0.1812, 0.8183, 0.7339, 0.7103],\n",
       "         [0.9816, 0.3171, 0.8966, 0.9168, 0.6011],\n",
       "         [0.2286, 0.4396, 0.5365, 0.8770, 0.9764],\n",
       "         [0.7653, 0.0033, 0.5949, 0.1603, 0.8569]],\n",
       "\n",
       "        [[0.9968, 0.2204, 0.3990, 0.6863, 0.8159],\n",
       "         [0.7175, 0.5982, 0.1065, 0.9911, 0.1414],\n",
       "         [0.5232, 0.0272, 0.1880, 0.4332, 0.7433],\n",
       "         [0.5171, 0.2717, 0.4134, 0.0161, 0.6116]]])"
      ]
     },
     "execution_count": 38,
     "metadata": {},
     "output_type": "execute_result"
    }
   ],
   "source": [
    "torch.rand_like(a)"
   ]
  },
  {
   "cell_type": "markdown",
   "id": "6f6a5eb2-279b-4eaf-8816-ad763f15f749",
   "metadata": {},
   "source": [
    "## 3. Attribute : shape, dtype, device \n",
    "해당 텐서의 모양, 데이터 타입, 연결된 device(하드웨어)를 확인"
   ]
  },
  {
   "cell_type": "markdown",
   "id": "4758ea09-130c-47a3-a352-968640cb8b57",
   "metadata": {},
   "source": [
    "- **`Tensor.shape`텐서의 사이즈 반환**    \n",
    "가장 많이 사용하는 것들 중 하나"
   ]
  },
  {
   "cell_type": "code",
   "execution_count": 55,
   "id": "6e4a091b-3cba-480f-8e72-ae230a065fea",
   "metadata": {},
   "outputs": [
    {
     "data": {
      "text/plain": [
       "torch.Size([5])"
      ]
     },
     "execution_count": 55,
     "metadata": {},
     "output_type": "execute_result"
    }
   ],
   "source": [
    "a= torch.tensor([1, 2, 3, 4, 5])\n",
    "a.shape"
   ]
  },
  {
   "cell_type": "code",
   "execution_count": 56,
   "id": "670b81ca-d0a6-4285-a37c-f6ccf53555c6",
   "metadata": {},
   "outputs": [
    {
     "data": {
      "text/plain": [
       "torch.Size([3, 4, 5])"
      ]
     },
     "execution_count": 56,
     "metadata": {},
     "output_type": "execute_result"
    }
   ],
   "source": [
    "b = torch.ones([3, 4, 5])\n",
    "b.shape"
   ]
  },
  {
   "cell_type": "markdown",
   "id": "bae8506a-a6ad-454d-b22d-6d21839ca7d9",
   "metadata": {},
   "source": [
    "- `Tensor.dtype` 텐서의 데이터 타입 반환\n",
    "- 텐서 안에 다른 데이터 타입은 사용할 수 없음"
   ]
  },
  {
   "cell_type": "code",
   "execution_count": 57,
   "id": "5194df63-7570-4826-b4e3-8eb2429445a6",
   "metadata": {},
   "outputs": [
    {
     "data": {
      "text/plain": [
       "torch.int64"
      ]
     },
     "execution_count": 57,
     "metadata": {},
     "output_type": "execute_result"
    }
   ],
   "source": [
    "a.dtype"
   ]
  },
  {
   "cell_type": "markdown",
   "id": "6a67d735-bf2a-4e59-b1f8-5f0307450a3f",
   "metadata": {},
   "source": [
    "- pytorch 자료형"
   ]
  },
  {
   "cell_type": "code",
   "execution_count": 58,
   "id": "e6881394-f956-40e3-8b84-62c0e18d009f",
   "metadata": {},
   "outputs": [],
   "source": [
    "# 자주 쓰는 것들 위주\n",
    "float_tensor = torch.ones(1, dtype=torch.float)\n",
    "double_tensor = torch.ones(1, dtype=torch.double)\n",
    "int_tensor = torch.ones(1, dtype=torch.int)\n",
    "long_tensor = torch.ones(1, dtype=torch.long)\n",
    "\n",
    "bool_tensor = torch.ones(1, dtype=torch.bool)"
   ]
  },
  {
   "cell_type": "markdown",
   "id": "a2d89f7c-b4e7-4d8d-9f17-621fd66f88a1",
   "metadata": {},
   "source": [
    "- `Tensor.device`현재 해당 tensor가 어느 device에 있는지 확인하는 방법"
   ]
  },
  {
   "cell_type": "code",
   "execution_count": 60,
   "id": "ed15c4c4-c50d-4ba8-b9bc-b3047e760136",
   "metadata": {},
   "outputs": [
    {
     "data": {
      "text/plain": [
       "device(type='cpu')"
      ]
     },
     "execution_count": 60,
     "metadata": {},
     "output_type": "execute_result"
    }
   ],
   "source": [
    "a= torch.tensor([1, 2, 3, 4, 5])\n",
    "a.device"
   ]
  },
  {
   "cell_type": "code",
   "execution_count": 61,
   "id": "984b0102-05a2-4727-9dae-deaa84d45aba",
   "metadata": {},
   "outputs": [
    {
     "data": {
      "text/plain": [
       "False"
      ]
     },
     "execution_count": 61,
     "metadata": {},
     "output_type": "execute_result"
    }
   ],
   "source": [
    "# 지금 GPU를 사용할 수 있는 환경인지를 확인\n",
    "torch.cuda.is_available()"
   ]
  },
  {
   "cell_type": "code",
   "execution_count": 64,
   "id": "9f2023cb-e0a7-45b1-abb4-be6e17d7b744",
   "metadata": {},
   "outputs": [
    {
     "data": {
      "text/plain": [
       "0"
      ]
     },
     "execution_count": 64,
     "metadata": {},
     "output_type": "execute_result"
    }
   ],
   "source": [
    "# 사용 가능 GPU 개수 체크\n",
    "torch.cuda.device_count()"
   ]
  },
  {
   "cell_type": "code",
   "execution_count": 69,
   "id": "376b6d29-6323-4cf0-9bf0-60e2a7eb8080",
   "metadata": {},
   "outputs": [
    {
     "ename": "AssertionError",
     "evalue": "Torch not compiled with CUDA enabled",
     "output_type": "error",
     "traceback": [
      "\u001b[1;31m---------------------------------------------------------------------------\u001b[0m",
      "\u001b[1;31mAssertionError\u001b[0m                            Traceback (most recent call last)",
      "Cell \u001b[1;32mIn[69], line 2\u001b[0m\n\u001b[0;32m      1\u001b[0m \u001b[38;5;66;03m# 텐서를 gpu에 할당\u001b[39;00m\n\u001b[1;32m----> 2\u001b[0m a \u001b[38;5;241m=\u001b[39m \u001b[43mtorch\u001b[49m\u001b[38;5;241;43m.\u001b[39;49m\u001b[43mtensor\u001b[49m\u001b[43m(\u001b[49m\u001b[43m[\u001b[49m\u001b[38;5;241;43m1.\u001b[39;49m\u001b[43m,\u001b[49m\u001b[43m \u001b[49m\u001b[38;5;241;43m2.\u001b[39;49m\u001b[43m,\u001b[49m\u001b[43m \u001b[49m\u001b[38;5;241;43m3.\u001b[39;49m\u001b[43m]\u001b[49m\u001b[43m)\u001b[49m\u001b[38;5;241;43m.\u001b[39;49m\u001b[43mcuda\u001b[49m\u001b[43m(\u001b[49m\u001b[43m)\u001b[49m\n\u001b[0;32m      3\u001b[0m b \u001b[38;5;241m=\u001b[39m torch\u001b[38;5;241m.\u001b[39mtensor([\u001b[38;5;241m1.\u001b[39m, \u001b[38;5;241m2.\u001b[39m, \u001b[38;5;241m3.\u001b[39m])\u001b[38;5;241m.\u001b[39mto(\u001b[38;5;124m\"\u001b[39m\u001b[38;5;124mcuda\u001b[39m\u001b[38;5;124m\"\u001b[39m)\n",
      "File \u001b[1;32m~\\anaconda3\\envs\\pytorch_env\\lib\\site-packages\\torch\\cuda\\__init__.py:363\u001b[0m, in \u001b[0;36m_lazy_init\u001b[1;34m()\u001b[0m\n\u001b[0;32m    358\u001b[0m     \u001b[38;5;28;01mraise\u001b[39;00m \u001b[38;5;167;01mRuntimeError\u001b[39;00m(\n\u001b[0;32m    359\u001b[0m         \u001b[38;5;124m\"\u001b[39m\u001b[38;5;124mCannot re-initialize CUDA in forked subprocess. To use CUDA with \u001b[39m\u001b[38;5;124m\"\u001b[39m\n\u001b[0;32m    360\u001b[0m         \u001b[38;5;124m\"\u001b[39m\u001b[38;5;124mmultiprocessing, you must use the \u001b[39m\u001b[38;5;124m'\u001b[39m\u001b[38;5;124mspawn\u001b[39m\u001b[38;5;124m'\u001b[39m\u001b[38;5;124m start method\u001b[39m\u001b[38;5;124m\"\u001b[39m\n\u001b[0;32m    361\u001b[0m     )\n\u001b[0;32m    362\u001b[0m \u001b[38;5;28;01mif\u001b[39;00m \u001b[38;5;129;01mnot\u001b[39;00m \u001b[38;5;28mhasattr\u001b[39m(torch\u001b[38;5;241m.\u001b[39m_C, \u001b[38;5;124m\"\u001b[39m\u001b[38;5;124m_cuda_getDeviceCount\u001b[39m\u001b[38;5;124m\"\u001b[39m):\n\u001b[1;32m--> 363\u001b[0m     \u001b[38;5;28;01mraise\u001b[39;00m \u001b[38;5;167;01mAssertionError\u001b[39;00m(\u001b[38;5;124m\"\u001b[39m\u001b[38;5;124mTorch not compiled with CUDA enabled\u001b[39m\u001b[38;5;124m\"\u001b[39m)\n\u001b[0;32m    364\u001b[0m \u001b[38;5;28;01mif\u001b[39;00m _cudart \u001b[38;5;129;01mis\u001b[39;00m \u001b[38;5;28;01mNone\u001b[39;00m:\n\u001b[0;32m    365\u001b[0m     \u001b[38;5;28;01mraise\u001b[39;00m \u001b[38;5;167;01mAssertionError\u001b[39;00m(\n\u001b[0;32m    366\u001b[0m         \u001b[38;5;124m\"\u001b[39m\u001b[38;5;124mlibcudart functions unavailable. It looks like you have a broken build?\u001b[39m\u001b[38;5;124m\"\u001b[39m\n\u001b[0;32m    367\u001b[0m     )\n",
      "\u001b[1;31mAssertionError\u001b[0m: Torch not compiled with CUDA enabled"
     ]
    }
   ],
   "source": [
    "# 텐서를 gpu에 할당\n",
    "a = torch.tensor([1., 2., 3.]).cuda()\n",
    "b = torch.tensor([1., 2., 3.]).to(\"cuda\")"
   ]
  },
  {
   "cell_type": "markdown",
   "id": "3350663e-6d47-44ef-8615-f83e1c8a3f4a",
   "metadata": {},
   "source": [
    "## 4. Tensor Aggregation : element-wise 연산, min, max, mean"
   ]
  },
  {
   "cell_type": "markdown",
   "id": "a77de500-da37-4182-92aa-e78d5d84d358",
   "metadata": {},
   "source": [
    "- ### element-wise 연산  \n",
    "텐서의 같은 자리 원소들끼리 산술 연산"
   ]
  },
  {
   "cell_type": "code",
   "execution_count": 73,
   "id": "7a6a4243-8632-4afc-9d56-42d105366994",
   "metadata": {},
   "outputs": [
    {
     "name": "stdout",
     "output_type": "stream",
     "text": [
      "tensor([[1, 2],\n",
      "        [3, 4]])\n",
      "tensor([[5, 6],\n",
      "        [7, 8]])\n",
      "tensor([[ 6,  8],\n",
      "        [10, 12]])\n",
      "tensor([[-4, -4],\n",
      "        [-4, -4]])\n",
      "tensor([[ 5, 12],\n",
      "        [21, 32]])\n",
      "tensor([[0.2000, 0.3333],\n",
      "        [0.4286, 0.5000]])\n"
     ]
    }
   ],
   "source": [
    "a = torch.tensor([[1, 2], [3, 4]])\n",
    "b = torch.tensor([[5, 6], [7, 8]])\n",
    "print(a)\n",
    "print(b)\n",
    "print(a + b)\n",
    "print(a - b)\n",
    "print(a * b)\n",
    "print(a / b)"
   ]
  },
  {
   "cell_type": "code",
   "execution_count": null,
   "id": "01a5cb81-905c-4c40-834b-23df9dd52b86",
   "metadata": {},
   "outputs": [],
   "source": []
  }
 ],
 "metadata": {
  "kernelspec": {
   "display_name": "Python (pytorch_env)",
   "language": "python",
   "name": "pytorch_env"
  },
  "language_info": {
   "codemirror_mode": {
    "name": "ipython",
    "version": 3
   },
   "file_extension": ".py",
   "mimetype": "text/x-python",
   "name": "python",
   "nbconvert_exporter": "python",
   "pygments_lexer": "ipython3",
   "version": "3.10.18"
  }
 },
 "nbformat": 4,
 "nbformat_minor": 5
}
